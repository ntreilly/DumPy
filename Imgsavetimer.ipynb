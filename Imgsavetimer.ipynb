{
 "cells": [
  {
   "cell_type": "code",
   "execution_count": 1,
   "metadata": {},
   "outputs": [
    {
     "name": "stdout",
     "output_type": "stream",
     "text": [
      "Using matplotlib backend: Qt5Agg\n",
      "Populating the interactive namespace from numpy and matplotlib\n"
     ]
    }
   ],
   "source": [
    "%pylab\n",
    "import os, re, time, sys\n",
    "#import cPickle as pickle\n",
    "from PIL import Image"
   ]
  },
  {
   "cell_type": "code",
   "execution_count": 2,
   "metadata": {
    "collapsed": true
   },
   "outputs": [],
   "source": [
    "# This part deals with setting the paths for each computer / os\n",
    "# Linux and Windows have different syntax for file paths and we want compatibility with both\n",
    "# So, file paths are stored in a file called :\n",
    "# declic_settings.txt\n",
    "# located in the SAME directory/folder as this .ipynb file\n",
    "# There should be 2 paths set up in the following way:\n",
    "# save_path = 'insert directory you want to save to here'\n",
    "# im_path = 'insert directory your images are coming from here'\n",
    "# On Windows, you need to represent \\ in a file path as \\\\\n",
    "# Saves correct path strings in variables called:\n",
    "# save_path, im_path\n",
    "\n",
    "from sys import platform\n",
    "if platform == \"linux\" or platform == \"linux2\":\n",
    "    settings_path = \"~/declic_settings\"\n",
    "elif platform == \"darwin\":\n",
    "    settings_path = \"~/declic_settings.txt\"\n",
    "elif platform == \"win32\":\n",
    "    path = os.path.abspath('.')\n",
    "    settings_path = os.path.expanduser(path)+u'\\\\declic_settings.txt'\n",
    "    save_path, im_path = False, False\n",
    "    f = open(settings_path,'r')\n",
    "    f = list(f)\n",
    "    for line in f:\n",
    "        try:\n",
    "            line = line.replace(' ','').replace('\\n','').replace(\"'\",\"\").replace('\"','')\n",
    "            line = line.replace('\\\\\\\\','\\\\').split('=')\n",
    "            varname, varval = line\n",
    "            varname = varname.replace('\\n','')\n",
    "            varval = varval.replace('\\n','').replace(\"'\",\"\")\n",
    "            if varname == \"save_path\": save_path = varval\n",
    "            elif varname == \"im_path\": im_path = varval\n",
    "        except:\n",
    "            print sys.exc_info()\n",
    "            print \"bad path definition file or not found!\"\n",
    "\n",
    "    if not (save_path and im_path): print \"error reading path variables\""
   ]
  },
  {
   "cell_type": "code",
   "execution_count": null,
   "metadata": {},
   "outputs": [
    {
     "name": "stdout",
     "output_type": "stream",
     "text": [
      "treating 0 of 771 images, at 0.8 seconds per image. Approx 10.7 minutes remaining\n",
      "treating 10 of 771 images, at 0.8 seconds per image. Approx 10.3 minutes remaining\n",
      "treating 20 of 771 images, at 0.8 seconds per image. Approx 10.0 minutes remaining\n"
     ]
    }
   ],
   "source": [
    "def gen_tnsp(all_names): #what is tnsp short for? recently added process\n",
    "    #just extract and save cell centers sequentially \n",
    "    \n",
    "    for n in range(len(all_names)):\n",
    "        thisname = all_names[n]\n",
    "        chrono = time.time()\n",
    "        I = np.array(Image.open(thisname))/255.0\n",
    "        plt.figure()\n",
    "        plt.imshow(I)\n",
    "        plt.savefig('{:s}image{:03d}_.png'.format(save_path,n), dpi=300)\n",
    "        plt.close()\n",
    "        chrono = time.time()-chrono\n",
    "        if n%10==0: print 'treating {:d} of {:d} images, at {:0.1f} seconds per image. Approx {:0.1f} minutes remaining'.format(n, len(all_names), chrono, (len(all_names)-n)*chrono/60)\n",
    "        #tick = re.findall('[0-9]{9,10}', thisname)[0]\n",
    "        #resname = 'file_{:04d}_centres_from_im_{:s}_.pkl'.format(n, tick)\n",
    "        #pickle.dump((centers, thisname), open('{:s}{:s}'.format(res_path,resname), 'wb'))\n",
    "        \n",
    "\n",
    "\n",
    "start_tick, end_tick = 1476315641, 1477017240 #start/end of img seq: manual add\n",
    "\n",
    "#scientific parameters\n",
    "mouteur = 1476095627 #from manips file!        \n",
    "        \n",
    "names = os.listdir(im_path)#make a list of files, modified for selection\n",
    "names = [i for i in names if '1.bmp' in i]\n",
    "names.sort() #need to put in order\n",
    "temp_names = []\n",
    "times = []\n",
    "    \n",
    "for n in names: #step through list and save tick \n",
    "    try:\n",
    "        tick = int(re.findall('[0-9]{9,10}',n)[0]) #9-10 numeric characters\n",
    "        if tick >= start_tick:\n",
    "            temp_names.append(n)\n",
    "            times.append((tick - mouteur)/23.0) #sec diff, incl prime number in system\n",
    "        if tick > end_tick: break\n",
    "    except: continue\n",
    "names = ['{}{}'.format(im_path,n,) for n in temp_names] #modified for selection\n",
    "\n",
    "times = np.array(times)\n",
    "\n",
    "gen_tnsp(names)\n"
   ]
  },
  {
   "cell_type": "code",
   "execution_count": null,
   "metadata": {
    "collapsed": true
   },
   "outputs": [],
   "source": []
  }
 ],
 "metadata": {
  "kernelspec": {
   "display_name": "Python 2",
   "language": "python",
   "name": "python2"
  },
  "language_info": {
   "codemirror_mode": {
    "name": "ipython",
    "version": 2
   },
   "file_extension": ".py",
   "mimetype": "text/x-python",
   "name": "python",
   "nbconvert_exporter": "python",
   "pygments_lexer": "ipython2",
   "version": "2.7.13"
  }
 },
 "nbformat": 4,
 "nbformat_minor": 2
}
