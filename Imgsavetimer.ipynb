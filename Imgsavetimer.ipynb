{
 "cells": [
  {
   "cell_type": "code",
   "execution_count": 1,
   "metadata": {},
   "outputs": [
    {
     "name": "stdout",
     "output_type": "stream",
     "text": [
      "Using matplotlib backend: Qt5Agg\n",
      "Populating the interactive namespace from numpy and matplotlib\n"
     ]
    }
   ],
   "source": [
    "%pylab\n",
    "import os, re, time, sys\n",
    "from PIL import Image"
   ]
  },
  {
   "cell_type": "code",
   "execution_count": 2,
   "metadata": {
    "collapsed": true
   },
   "outputs": [],
   "source": [
    "# This part deals with setting the paths for each computer / os\n",
    "\n",
    "# Linux and Windows have different syntax for file paths and we want compatibility with both\n",
    "# So, file paths are stored in a file called:\n",
    "# declic_settings.txt\n",
    "# located in the SAME directory/folder as this .ipynb file\n",
    "# The local file should contain 2 paths set up in the following way:\n",
    "# save_path = 'insert directory you want to save to here'\n",
    "# im_path = 'insert directory your images are coming from here'\n",
    "# On Windows, you need to represent \\ in a file path as \\\\\n",
    "# Saves correct path strings in variables called:\n",
    "# save_path, im_path\n",
    "\n",
    "# Copy experimental parameters corresponding to experiment of images used from separate file called:\n",
    "# exp_params.txt\n",
    "# located in the SAME directory/folder as this .ipynb file\n",
    "# updated to reflect accurate values from the DECLIC experiment file\n",
    "# The local file should contain 3 lines set up in the following way:\n",
    "# moteur = 9-10-digit positive integer goes here (column L in manips file for exp line)\n",
    "# start_tick = 9-10-digit positive integer > moteur goes here (column R in manips file for exp line)\n",
    "# end_tick = 9-10 digit positive integer > start_tick goes here (column O in manips file for exp line)\n",
    "# Do not use any quotation marks or apostrophes around the integer values\n",
    "# Saves values to variables called:\n",
    "# moteur, start_tick, end_tick\n",
    "\n",
    "from sys import platform\n",
    "if platform == \"linux\" or platform == \"linux2\":\n",
    "    path = os.path.abspath('.')\n",
    "    file_settings_path = \"./declic_settings_linux.cfg\"\n",
    "    save_path, im_path = False, False\n",
    "    f = open(file_settings_path,'r')\n",
    "    f = list(f)\n",
    "    for line in f:\n",
    "        try:\n",
    "            line = line.replace(' ','').replace('\\n','').replace(\"'\",\"\").replace('\"','')\n",
    "            line = line.split('=')\n",
    "            varname, varval = line\n",
    "            varname = varname.replace('\\n','')\n",
    "            varval = varval.replace('\\n','').replace(\"'\",\"\")\n",
    "            if varname == \"save_path\": save_path = varval\n",
    "            elif varname == \"im_path\": im_path = varval\n",
    "        except:\n",
    "            print sys.exc_info()\n",
    "            print \"bad path definition file or not found!\"\n",
    "    if not (save_path and im_path): print \"error reading path variables\"\n",
    "    \n",
    "    exp_param_path = \"./exp_params.txt\"\n",
    "    moteur, start_tick, end_tick = 0, 0, 0\n",
    "    p = open(exp_param_path, 'r')\n",
    "    p = list(p)\n",
    "    for line in p:\n",
    "        try:\n",
    "            line = line.replace(' ','').replace('\\n','')\n",
    "            line = line.split('=')\n",
    "            varname, varval = line\n",
    "            varname = varname.replace('\\n','')\n",
    "            varval = varval.replace('\\n','')\n",
    "            if varname == \"moteur\": moteur = int(varval)\n",
    "            elif varname == \"start_tick\": start_tick = int(varval)\n",
    "            elif varname == \"end_tick\": end_tick = int(varval)\n",
    "        except:\n",
    "            print sys.exc_info()\n",
    "            print \"bad path definition file or not found!\"\n",
    "    if not (moteur > 0 and start_tick > 0 and end_tick > 0): print \"error reading path variables\"\n",
    "        \n",
    "elif platform == \"darwin\":\n",
    "    settings_path = \"~/declic_settings_mac.cfg\"\n",
    "    print \"Mac implementation not handled in current code\"\n",
    "    \n",
    "elif platform == \"win32\":\n",
    "    path = os.path.abspath('.')\n",
    "    file_settings_path = os.path.expanduser(path)+u'\\\\declic_settings_windows.txt'\n",
    "    save_path, im_path = False, False\n",
    "    f = open(file_settings_path,'r')\n",
    "    f = list(f)\n",
    "    for line in f:\n",
    "        try:\n",
    "            line = line.replace(' ','').replace('\\n','').replace(\"'\",\"\").replace('\"','')\n",
    "            line = line.replace('\\\\\\\\','\\\\').split('=') #extra \\\\ requirement for windows path\n",
    "            varname, varval = line\n",
    "            varname = varname.replace('\\n','')\n",
    "            varval = varval.replace('\\n','').replace(\"'\",\"\")\n",
    "            if varname == \"save_path\": save_path = varval\n",
    "            elif varname == \"im_path\": im_path = varval\n",
    "        except:\n",
    "            print sys.exc_info()\n",
    "            print \"bad path definition file or not found!\"\n",
    "    if not (save_path and im_path): print \"error reading path variables\"\n",
    "    \n",
    "    exp_param_path = \"./exp_params.txt\"\n",
    "    moteur, start_tick, end_tick = 0, 0, 0\n",
    "    p = open(exp_param_path, 'r')\n",
    "    p = list(p)\n",
    "    for line in p:\n",
    "        try:\n",
    "            line = line.replace(' ','').replace('\\n','')\n",
    "            line = line.split('=')\n",
    "            varname, varval = line\n",
    "            varname = varname.replace('\\n','')\n",
    "            varval = varval.replace('\\n','')\n",
    "            if varname == \"moteur\": moteur = int(varval)\n",
    "            elif varname == \"start_tick\": start_tick = int(varval)\n",
    "            elif varname == \"end_tick\": end_tick = int(varval)\n",
    "        except:\n",
    "            print sys.exc_info()\n",
    "            print \"bad path definition file or not found!\"\n",
    "    if not (moteur > 0 and start_tick > 0 and end_tick > 0): print \"error reading path variables\"\n",
    "        "
   ]
  },
  {
   "cell_type": "code",
   "execution_count": 5,
   "metadata": {
    "collapsed": true
   },
   "outputs": [],
   "source": [
    "def imagesavewithtimer(all_names):\n",
    "    # sequentially open files in a local directory and save to another local directory \n",
    "    for n in range(len(all_names)):\n",
    "        thisname = all_names[n]\n",
    "        chrono = time.time()\n",
    "        I = np.array(Image.open(thisname))/255.0\n",
    "        plt.figure()\n",
    "        plt.imshow(I)\n",
    "        plt.savefig('{:s}image{:03d}_.png'.format(save_path,n), dpi=300)\n",
    "        plt.close()\n",
    "        chrono = time.time()-chrono\n",
    "        if n%10==0: #for every 10th image, print the estimated processing time per image and until completion\n",
    "            print 'treating {:d} of {:d} images, at {:0.1f} seconds per image. Approx {:0.1f} minutes remaining'.format(n, len(all_names), chrono, (len(all_names)-n)*chrono/60)\n",
    " \n",
    "names = os.listdir(im_path)#make a list of files\n",
    "names = [i for i in names if '1.bmp' in i]\n",
    "names.sort() #need to put in order\n",
    "temp_names = []\n",
    "times = []\n",
    "    \n",
    "for n in names: #step through list and save tick \n",
    "    try:\n",
    "        tick = int(re.findall('[0-9]{9,10}',n)[0]) #9-10 numeric characters\n",
    "        if tick >= start_tick:\n",
    "            temp_names.append(n)\n",
    "            times.append((tick - moteur)/23.0) #second diff, incl prime number in system\n",
    "        if tick > end_tick: break\n",
    "    except: continue\n",
    "names = ['{}{}'.format(im_path,n) for n in temp_names] #assigns number related to order in names\n",
    "\n",
    "times = np.array(times)"
   ]
  },
  {
   "cell_type": "code",
   "execution_count": 6,
   "metadata": {},
   "outputs": [
    {
     "name": "stdout",
     "output_type": "stream",
     "text": [
      "treating 0 of 258 images, at 1.7 seconds per image. Approx 7.2 minutes remaining\n",
      "treating 10 of 258 images, at 1.8 seconds per image. Approx 7.3 minutes remaining\n",
      "treating 20 of 258 images, at 1.7 seconds per image. Approx 6.8 minutes remaining\n"
     ]
    },
    {
     "ename": "KeyboardInterrupt",
     "evalue": "",
     "output_type": "error",
     "traceback": [
      "\u001b[1;31m---------------------------------------------------------------------------\u001b[0m",
      "\u001b[1;31mKeyboardInterrupt\u001b[0m                         Traceback (most recent call last)",
      "\u001b[1;32m<ipython-input-6-acbfefb3164c>\u001b[0m in \u001b[0;36m<module>\u001b[1;34m()\u001b[0m\n\u001b[1;32m----> 1\u001b[1;33m \u001b[0mimagesavewithtimer\u001b[0m\u001b[1;33m(\u001b[0m\u001b[0mnames\u001b[0m\u001b[1;33m)\u001b[0m \u001b[1;31m#run the image opening and saving function\u001b[0m\u001b[1;33m\u001b[0m\u001b[0m\n\u001b[0m",
      "\u001b[1;32m<ipython-input-5-21c3deea73df>\u001b[0m in \u001b[0;36mimagesavewithtimer\u001b[1;34m(all_names)\u001b[0m\n\u001b[0;32m      7\u001b[0m         \u001b[0mplt\u001b[0m\u001b[1;33m.\u001b[0m\u001b[0mfigure\u001b[0m\u001b[1;33m(\u001b[0m\u001b[1;33m)\u001b[0m\u001b[1;33m\u001b[0m\u001b[0m\n\u001b[0;32m      8\u001b[0m         \u001b[0mplt\u001b[0m\u001b[1;33m.\u001b[0m\u001b[0mimshow\u001b[0m\u001b[1;33m(\u001b[0m\u001b[0mI\u001b[0m\u001b[1;33m)\u001b[0m\u001b[1;33m\u001b[0m\u001b[0m\n\u001b[1;32m----> 9\u001b[1;33m         \u001b[0mplt\u001b[0m\u001b[1;33m.\u001b[0m\u001b[0msavefig\u001b[0m\u001b[1;33m(\u001b[0m\u001b[1;34m'{:s}image{:03d}_.png'\u001b[0m\u001b[1;33m.\u001b[0m\u001b[0mformat\u001b[0m\u001b[1;33m(\u001b[0m\u001b[0msave_path\u001b[0m\u001b[1;33m,\u001b[0m\u001b[0mn\u001b[0m\u001b[1;33m)\u001b[0m\u001b[1;33m,\u001b[0m \u001b[0mdpi\u001b[0m\u001b[1;33m=\u001b[0m\u001b[1;36m300\u001b[0m\u001b[1;33m)\u001b[0m\u001b[1;33m\u001b[0m\u001b[0m\n\u001b[0m\u001b[0;32m     10\u001b[0m         \u001b[0mplt\u001b[0m\u001b[1;33m.\u001b[0m\u001b[0mclose\u001b[0m\u001b[1;33m(\u001b[0m\u001b[1;33m)\u001b[0m\u001b[1;33m\u001b[0m\u001b[0m\n\u001b[0;32m     11\u001b[0m         \u001b[0mchrono\u001b[0m \u001b[1;33m=\u001b[0m \u001b[0mtime\u001b[0m\u001b[1;33m.\u001b[0m\u001b[0mtime\u001b[0m\u001b[1;33m(\u001b[0m\u001b[1;33m)\u001b[0m\u001b[1;33m-\u001b[0m\u001b[0mchrono\u001b[0m\u001b[1;33m\u001b[0m\u001b[0m\n",
      "\u001b[1;32mC:\\Users\\ntr\\Anaconda2\\lib\\site-packages\\matplotlib\\pyplot.pyc\u001b[0m in \u001b[0;36msavefig\u001b[1;34m(*args, **kwargs)\u001b[0m\n\u001b[0;32m    695\u001b[0m \u001b[1;32mdef\u001b[0m \u001b[0msavefig\u001b[0m\u001b[1;33m(\u001b[0m\u001b[1;33m*\u001b[0m\u001b[0margs\u001b[0m\u001b[1;33m,\u001b[0m \u001b[1;33m**\u001b[0m\u001b[0mkwargs\u001b[0m\u001b[1;33m)\u001b[0m\u001b[1;33m:\u001b[0m\u001b[1;33m\u001b[0m\u001b[0m\n\u001b[0;32m    696\u001b[0m     \u001b[0mfig\u001b[0m \u001b[1;33m=\u001b[0m \u001b[0mgcf\u001b[0m\u001b[1;33m(\u001b[0m\u001b[1;33m)\u001b[0m\u001b[1;33m\u001b[0m\u001b[0m\n\u001b[1;32m--> 697\u001b[1;33m     \u001b[0mres\u001b[0m \u001b[1;33m=\u001b[0m \u001b[0mfig\u001b[0m\u001b[1;33m.\u001b[0m\u001b[0msavefig\u001b[0m\u001b[1;33m(\u001b[0m\u001b[1;33m*\u001b[0m\u001b[0margs\u001b[0m\u001b[1;33m,\u001b[0m \u001b[1;33m**\u001b[0m\u001b[0mkwargs\u001b[0m\u001b[1;33m)\u001b[0m\u001b[1;33m\u001b[0m\u001b[0m\n\u001b[0m\u001b[0;32m    698\u001b[0m     \u001b[0mfig\u001b[0m\u001b[1;33m.\u001b[0m\u001b[0mcanvas\u001b[0m\u001b[1;33m.\u001b[0m\u001b[0mdraw_idle\u001b[0m\u001b[1;33m(\u001b[0m\u001b[1;33m)\u001b[0m   \u001b[1;31m# need this if 'transparent=True' to reset colors\u001b[0m\u001b[1;33m\u001b[0m\u001b[0m\n\u001b[0;32m    699\u001b[0m     \u001b[1;32mreturn\u001b[0m \u001b[0mres\u001b[0m\u001b[1;33m\u001b[0m\u001b[0m\n",
      "\u001b[1;32mC:\\Users\\ntr\\Anaconda2\\lib\\site-packages\\matplotlib\\figure.pyc\u001b[0m in \u001b[0;36msavefig\u001b[1;34m(self, *args, **kwargs)\u001b[0m\n\u001b[0;32m   1571\u001b[0m             \u001b[0mself\u001b[0m\u001b[1;33m.\u001b[0m\u001b[0mset_frameon\u001b[0m\u001b[1;33m(\u001b[0m\u001b[0mframeon\u001b[0m\u001b[1;33m)\u001b[0m\u001b[1;33m\u001b[0m\u001b[0m\n\u001b[0;32m   1572\u001b[0m \u001b[1;33m\u001b[0m\u001b[0m\n\u001b[1;32m-> 1573\u001b[1;33m         \u001b[0mself\u001b[0m\u001b[1;33m.\u001b[0m\u001b[0mcanvas\u001b[0m\u001b[1;33m.\u001b[0m\u001b[0mprint_figure\u001b[0m\u001b[1;33m(\u001b[0m\u001b[1;33m*\u001b[0m\u001b[0margs\u001b[0m\u001b[1;33m,\u001b[0m \u001b[1;33m**\u001b[0m\u001b[0mkwargs\u001b[0m\u001b[1;33m)\u001b[0m\u001b[1;33m\u001b[0m\u001b[0m\n\u001b[0m\u001b[0;32m   1574\u001b[0m \u001b[1;33m\u001b[0m\u001b[0m\n\u001b[0;32m   1575\u001b[0m         \u001b[1;32mif\u001b[0m \u001b[0mframeon\u001b[0m\u001b[1;33m:\u001b[0m\u001b[1;33m\u001b[0m\u001b[0m\n",
      "\u001b[1;32mC:\\Users\\ntr\\Anaconda2\\lib\\site-packages\\matplotlib\\backends\\backend_qt5agg.pyc\u001b[0m in \u001b[0;36mprint_figure\u001b[1;34m(self, *args, **kwargs)\u001b[0m\n\u001b[0;32m    220\u001b[0m \u001b[1;33m\u001b[0m\u001b[0m\n\u001b[0;32m    221\u001b[0m     \u001b[1;32mdef\u001b[0m \u001b[0mprint_figure\u001b[0m\u001b[1;33m(\u001b[0m\u001b[0mself\u001b[0m\u001b[1;33m,\u001b[0m \u001b[1;33m*\u001b[0m\u001b[0margs\u001b[0m\u001b[1;33m,\u001b[0m \u001b[1;33m**\u001b[0m\u001b[0mkwargs\u001b[0m\u001b[1;33m)\u001b[0m\u001b[1;33m:\u001b[0m\u001b[1;33m\u001b[0m\u001b[0m\n\u001b[1;32m--> 222\u001b[1;33m         \u001b[0mFigureCanvasAgg\u001b[0m\u001b[1;33m.\u001b[0m\u001b[0mprint_figure\u001b[0m\u001b[1;33m(\u001b[0m\u001b[0mself\u001b[0m\u001b[1;33m,\u001b[0m \u001b[1;33m*\u001b[0m\u001b[0margs\u001b[0m\u001b[1;33m,\u001b[0m \u001b[1;33m**\u001b[0m\u001b[0mkwargs\u001b[0m\u001b[1;33m)\u001b[0m\u001b[1;33m\u001b[0m\u001b[0m\n\u001b[0m\u001b[0;32m    223\u001b[0m         \u001b[0mself\u001b[0m\u001b[1;33m.\u001b[0m\u001b[0mdraw\u001b[0m\u001b[1;33m(\u001b[0m\u001b[1;33m)\u001b[0m\u001b[1;33m\u001b[0m\u001b[0m\n\u001b[0;32m    224\u001b[0m \u001b[1;33m\u001b[0m\u001b[0m\n",
      "\u001b[1;32mC:\\Users\\ntr\\Anaconda2\\lib\\site-packages\\matplotlib\\backend_bases.pyc\u001b[0m in \u001b[0;36mprint_figure\u001b[1;34m(self, filename, dpi, facecolor, edgecolor, orientation, format, **kwargs)\u001b[0m\n\u001b[0;32m   2250\u001b[0m                 \u001b[0morientation\u001b[0m\u001b[1;33m=\u001b[0m\u001b[0morientation\u001b[0m\u001b[1;33m,\u001b[0m\u001b[1;33m\u001b[0m\u001b[0m\n\u001b[0;32m   2251\u001b[0m                 \u001b[0mbbox_inches_restore\u001b[0m\u001b[1;33m=\u001b[0m\u001b[0m_bbox_inches_restore\u001b[0m\u001b[1;33m,\u001b[0m\u001b[1;33m\u001b[0m\u001b[0m\n\u001b[1;32m-> 2252\u001b[1;33m                 **kwargs)\n\u001b[0m\u001b[0;32m   2253\u001b[0m         \u001b[1;32mfinally\u001b[0m\u001b[1;33m:\u001b[0m\u001b[1;33m\u001b[0m\u001b[0m\n\u001b[0;32m   2254\u001b[0m             \u001b[1;32mif\u001b[0m \u001b[0mbbox_inches\u001b[0m \u001b[1;32mand\u001b[0m \u001b[0mrestore_bbox\u001b[0m\u001b[1;33m:\u001b[0m\u001b[1;33m\u001b[0m\u001b[0m\n",
      "\u001b[1;32mC:\\Users\\ntr\\Anaconda2\\lib\\site-packages\\matplotlib\\backends\\backend_agg.pyc\u001b[0m in \u001b[0;36mprint_png\u001b[1;34m(self, filename_or_obj, *args, **kwargs)\u001b[0m\n\u001b[0;32m    557\u001b[0m         \u001b[1;32mfinally\u001b[0m\u001b[1;33m:\u001b[0m\u001b[1;33m\u001b[0m\u001b[0m\n\u001b[0;32m    558\u001b[0m             \u001b[1;32mif\u001b[0m \u001b[0mclose\u001b[0m\u001b[1;33m:\u001b[0m\u001b[1;33m\u001b[0m\u001b[0m\n\u001b[1;32m--> 559\u001b[1;33m                 \u001b[0mfilename_or_obj\u001b[0m\u001b[1;33m.\u001b[0m\u001b[0mclose\u001b[0m\u001b[1;33m(\u001b[0m\u001b[1;33m)\u001b[0m\u001b[1;33m\u001b[0m\u001b[0m\n\u001b[0m\u001b[0;32m    560\u001b[0m             \u001b[0mrenderer\u001b[0m\u001b[1;33m.\u001b[0m\u001b[0mdpi\u001b[0m \u001b[1;33m=\u001b[0m \u001b[0moriginal_dpi\u001b[0m\u001b[1;33m\u001b[0m\u001b[0m\n\u001b[0;32m    561\u001b[0m \u001b[1;33m\u001b[0m\u001b[0m\n",
      "\u001b[1;31mKeyboardInterrupt\u001b[0m: "
     ]
    }
   ],
   "source": [
    "imagesavewithtimer(names) #run the image opening and saving function"
   ]
  },
  {
   "cell_type": "code",
   "execution_count": null,
   "metadata": {
    "collapsed": true
   },
   "outputs": [],
   "source": []
  }
 ],
 "metadata": {
  "kernelspec": {
   "display_name": "Python 2",
   "language": "python",
   "name": "python2"
  },
  "language_info": {
   "codemirror_mode": {
    "name": "ipython",
    "version": 2
   },
   "file_extension": ".py",
   "mimetype": "text/x-python",
   "name": "python",
   "nbconvert_exporter": "python",
   "pygments_lexer": "ipython2",
   "version": "2.7.13"
  }
 },
 "nbformat": 4,
 "nbformat_minor": 2
}
