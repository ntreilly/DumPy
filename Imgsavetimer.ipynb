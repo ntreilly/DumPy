{
 "cells": [
  {
   "cell_type": "code",
   "execution_count": 1,
   "metadata": {},
   "outputs": [
    {
     "name": "stdout",
     "output_type": "stream",
     "text": [
      "Using matplotlib backend: TkAgg\n",
      "Populating the interactive namespace from numpy and matplotlib\n"
     ]
    }
   ],
   "source": [
    "%pylab\n",
    "import os, re, time, sys\n",
    "from PIL import Image"
   ]
  },
  {
   "cell_type": "code",
   "execution_count": 10,
   "metadata": {},
   "outputs": [],
   "source": [
    "# This part deals with setting the paths for each computer / os\n",
    "\n",
    "# Linux and Windows have different syntax for file paths and we want compatibility with both\n",
    "# So, file paths are stored in a file called:\n",
    "# declic_settings.txt\n",
    "# located in the SAME directory/folder as this .ipynb file\n",
    "# The local file should contain 2 paths set up in the following way:\n",
    "# save_path = 'insert (existent) directory you want to save to here'\n",
    "# im_path = 'insert directory your images are coming from here'\n",
    "# On Windows, you need to represent \\ in a file path as \\\\\n",
    "# Saves correct path strings in variables called:\n",
    "# save_path, im_path\n",
    "\n",
    "# Copy experimental parameters corresponding to experiment of images used from separate file called:\n",
    "# exp_params.txt\n",
    "# located in the SAME directory/folder as this .ipynb file\n",
    "# updated to reflect accurate values from the DECLIC experiment file\n",
    "# The local file should contain 3 lines set up in the following way:\n",
    "# moteur = 9-10-digit positive integer goes here (column L in manips file for exp line)\n",
    "# start_tick = 9-10-digit positive integer > moteur goes here (column R in manips file for exp line)\n",
    "# end_tick = 9-10 digit positive integer > start_tick goes here (column O in manips file for exp line)\n",
    "# Do not use any quotation marks or apostrophes around the integer values\n",
    "# Saves values to variables called:\n",
    "# moteur, start_tick, end_tick\n",
    "\n",
    "from sys import platform\n",
    "if platform == \"linux\" or platform == \"linux2\":\n",
    "    path = os.path.abspath('.')\n",
    "    file_settings_path = \"./declic_settings_linux.cfg\"\n",
    "    save_path, im_path = False, False\n",
    "    f = open(file_settings_path,'r')\n",
    "    f = list(f)\n",
    "    for line in f:\n",
    "        try:\n",
    "            line = line.replace(' ','').replace('\\n','').replace(\"'\",\"\").replace('\"','')\n",
    "            line = line.split('=')\n",
    "            varname, varval = line\n",
    "            varname = varname.replace('\\n','')\n",
    "            varval = varval.replace('\\n','').replace(\"'\",\"\")\n",
    "            if varname == \"save_path\": save_path = varval\n",
    "            elif varname == \"im_path\": im_path = varval\n",
    "        except:\n",
    "            print sys.exc_info()\n",
    "            print \"bad path definition file or not found!\"\n",
    "    if not (save_path and im_path): print \"error reading path variables\"\n",
    "    \n",
    "    exp_param_path = \"./exp_params.txt\"\n",
    "    moteur, start_tick, end_tick = 0, 0, 0\n",
    "    p = open(exp_param_path, 'r')\n",
    "    p = list(p)\n",
    "    for line in p:\n",
    "        try:\n",
    "            line = line.replace(' ','').replace('\\n','')\n",
    "            line = line.split('=')\n",
    "            varname, varval = line\n",
    "            varname = varname.replace('\\n','')\n",
    "            varval = varval.replace('\\n','')\n",
    "            if varname == \"moteur\": moteur = int(varval)\n",
    "            elif varname == \"start_tick\": start_tick = int(varval)\n",
    "            elif varname == \"end_tick\": end_tick = int(varval)\n",
    "        except:\n",
    "            print sys.exc_info()\n",
    "            print \"bad path definition file or not found!\"\n",
    "    if not (moteur > 0 and start_tick > 0 and end_tick > 0): print \"error reading path variables\"\n",
    "        \n",
    "elif platform == \"darwin\":\n",
    "    settings_path = \"~/declic_settings_mac.cfg\"\n",
    "    print \"Mac implementation not handled in current code\"\n",
    "    \n",
    "elif platform == \"win32\":\n",
    "    path = os.path.abspath('.')\n",
    "    file_settings_path = os.path.expanduser(path)+u'\\\\declic_settings_windows.txt'\n",
    "    save_path, im_path = False, False\n",
    "    f = open(file_settings_path,'r')\n",
    "    f = list(f)\n",
    "    for line in f:\n",
    "        try:\n",
    "            line = line.replace(' ','').replace('\\n','').replace(\"'\",\"\").replace('\"','')\n",
    "            line = line.replace('\\\\\\\\','\\\\').split('=') #extra \\\\ requirement for windows path\n",
    "            varname, varval = line\n",
    "            varname = varname.replace('\\n','')\n",
    "            varval = varval.replace('\\n','').replace(\"'\",\"\")\n",
    "            if varname == \"save_path\": save_path = varval\n",
    "            elif varname == \"im_path\": im_path = varval\n",
    "        except:\n",
    "            print sys.exc_info()\n",
    "            print \"bad path definition file or not found!\"\n",
    "    if not (save_path and im_path): print \"error reading path variables\"\n",
    "    \n",
    "    exp_param_path = \"./exp_params.txt\"\n",
    "    moteur, start_tick, end_tick = 0, 0, 0\n",
    "    p = open(exp_param_path, 'r')\n",
    "    p = list(p)\n",
    "    for line in p:\n",
    "        try:\n",
    "            line = line.replace(' ','').replace('\\n','')\n",
    "            line = line.split('=')\n",
    "            varname, varval = line\n",
    "            varname = varname.replace('\\n','')\n",
    "            varval = varval.replace('\\n','')\n",
    "            if varname == \"moteur\": moteur = int(varval)\n",
    "            elif varname == \"start_tick\": start_tick = int(varval)\n",
    "            elif varname == \"end_tick\": end_tick = int(varval)\n",
    "        except:\n",
    "            print sys.exc_info()\n",
    "            print \"bad path definition file or not found!\"\n",
    "    if not (moteur > 0 and start_tick > 0 and end_tick > 0): print \"error reading path variables\"\n",
    "        "
   ]
  },
  {
   "cell_type": "code",
   "execution_count": 11,
   "metadata": {},
   "outputs": [
    {
     "name": "stdout",
     "output_type": "stream",
     "text": [
      "['DSI_SEQ1_ACTIVITE08_HR2_967588176_1.bmp', 'DSI_SEQ1_ACTIVITE08_HR2_967589280_1.bmp', 'DSI_SEQ1_ACTIVITE08_HR2_967591488_1.bmp', 'DSI_SEQ1_ACTIVITE08_HR2_967594248_1.bmp', 'DSI_SEQ1_ACTIVITE08_HR2_967599064_1.bmp', 'DSI_SEQ1_ACTIVITE08_HR2_967593144_1.bmp', 'DSI_SEQ1_ACTIVITE08_HR2_967598208_1.bmp', 'DSI_SEQ1_ACTIVITE08_HR2_967590384_1.bmp', 'DSI_SEQ1_ACTIVITE08_HR2_967597656_1.bmp', 'DSI_SEQ1_ACTIVITE08_HR2_967592592_1.bmp', 'DSI_SEQ1_ACTIVITE08_HR2_967596552_1.bmp', 'DSI_SEQ1_ACTIVITE08_HR2_967586520_1.bmp', 'DSI_SEQ1_ACTIVITE08_HR2_967598767_1.bmp', 'DSI_SEQ1_ACTIVITE08_HR2_967585968_1.bmp', 'DSI_SEQ1_ACTIVITE08_HR2_967592040_1.bmp', 'DSI_SEQ1_ACTIVITE08_HR2_967597104_1.bmp', 'DSI_SEQ1_ACTIVITE08_HR2_967587072_1.bmp', 'DSI_SEQ1_ACTIVITE08_HR2_967596000_1.bmp', 'DSI_SEQ1_ACTIVITE08_HR2_967588728_1.bmp', 'DSI_SEQ1_ACTIVITE08_HR2_967589832_1.bmp', 'DSI_SEQ1_ACTIVITE08_HR2_967587624_1.bmp', 'DSI_SEQ1_ACTIVITE08_HR2_967590936_1.bmp', 'DSI_SEQ1_ACTIVITE08_HR2_967593696_1.bmp']\n"
     ]
    }
   ],
   "source": [
    "def imagesavewithtimer(all_names):\n",
    "    # sequentially open files in a local directory and save to another local directory \n",
    "    for n in range(len(all_names)):\n",
    "        thisname = all_names[n]\n",
    "        chrono = time.time()\n",
    "        I = np.array(Image.open(thisname))/255.0\n",
    "        plt.figure()\n",
    "        plt.imshow(I)\n",
    "        plt.savefig('{:s}image{:03d}_.png'.format(save_path,n), dpi=300)\n",
    "        plt.close()\n",
    "        chrono = time.time()-chrono\n",
    "        if n%10==0: #for every 10th image, print the estimated processing time per image and until completion\n",
    "            print 'treating {:d} of {:d} images, at {:0.1f} seconds per image. Approx {:0.1f} minutes remaining'.format(n, len(all_names), chrono, (len(all_names)-n)*chrono/60)\n",
    "            \n",
    "names = os.listdir(im_path)#make a list of files\n",
    "print names\n",
    "names = [i for i in names if '1.bmp' in i]\n",
    "names.sort() #need to put in order\n",
    "temp_names = []\n",
    "times = []\n",
    "    \n",
    "for n in names: #step through list and save tick \n",
    "    try:\n",
    "        tick = int(re.findall('[0-9]{9,10}',n)[0]) #9-10 numeric characters\n",
    "        if tick >= start_tick:\n",
    "            temp_names.append(n)\n",
    "            times.append((tick - moteur)/23.0) #second diff, incl prime number in system\n",
    "        if tick > end_tick: break\n",
    "    except: continue\n",
    "names = ['{}{}'.format(im_path,n) for n in temp_names] #assigns number related to order in names\n",
    "\n",
    "times = np.array(times)"
   ]
  },
  {
   "cell_type": "code",
   "execution_count": 12,
   "metadata": {},
   "outputs": [
    {
     "name": "stdout",
     "output_type": "stream",
     "text": [
      "treating 0 of 23 images, at 0.8 seconds per image. Approx 0.3 minutes remaining\n",
      "treating 10 of 23 images, at 0.8 seconds per image. Approx 0.2 minutes remaining\n",
      "treating 20 of 23 images, at 0.8 seconds per image. Approx 0.0 minutes remaining\n"
     ]
    }
   ],
   "source": [
    "imagesavewithtimer(names) #run the image opening and saving function"
   ]
  },
  {
   "cell_type": "code",
   "execution_count": 6,
   "metadata": {},
   "outputs": [
    {
     "data": {
      "text/plain": [
       "[]"
      ]
     },
     "execution_count": 6,
     "metadata": {},
     "output_type": "execute_result"
    }
   ],
   "source": [
    "names"
   ]
  },
  {
   "cell_type": "code",
   "execution_count": null,
   "metadata": {
    "collapsed": true
   },
   "outputs": [],
   "source": []
  }
 ],
 "metadata": {
  "kernelspec": {
   "display_name": "Python 2",
   "language": "python",
   "name": "python2"
  },
  "language_info": {
   "codemirror_mode": {
    "name": "ipython",
    "version": 2
   },
   "file_extension": ".py",
   "mimetype": "text/x-python",
   "name": "python",
   "nbconvert_exporter": "python",
   "pygments_lexer": "ipython2",
   "version": "2.7.12"
  }
 },
 "nbformat": 4,
 "nbformat_minor": 2
}
